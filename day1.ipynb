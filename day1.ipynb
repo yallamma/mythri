{
 "cells": [
  {
   "cell_type": "code",
   "execution_count": 0,
   "metadata": {
    "colab": {
     "base_uri": "https://localhost:8080/",
     "height": 35
    },
    "colab_type": "code",
    "id": "vx01wBFSTNGF",
    "outputId": "46af7dd8-d838-42ad-ced2-72d880a762ef"
   },
   "outputs": [
    {
     "name": "stdout",
     "output_type": "stream",
     "text": [
      "hello world\n"
     ]
    }
   ],
   "source": [
    "print (\"hello world\")"
   ]
  },
  {
   "cell_type": "code",
   "execution_count": 0,
   "metadata": {
    "colab": {
     "base_uri": "https://localhost:8080/",
     "height": 35
    },
    "colab_type": "code",
    "id": "iBQcLdVmV8hB",
    "outputId": "898f93a6-6f33-430b-effa-b77a2d6fc93e"
   },
   "outputs": [
    {
     "data": {
      "text/plain": [
       "2"
      ]
     },
     "execution_count": 3,
     "metadata": {
      "tags": []
     },
     "output_type": "execute_result"
    }
   ],
   "source": [
    "1+1\n",
    "\n"
   ]
  },
  {
   "cell_type": "code",
   "execution_count": 0,
   "metadata": {
    "colab": {
     "base_uri": "https://localhost:8080/",
     "height": 35
    },
    "colab_type": "code",
    "id": "nWQzZhcWWAUf",
    "outputId": "cbb698f6-62ae-4045-ed93-9769a3a019ad"
   },
   "outputs": [
    {
     "name": "stdout",
     "output_type": "stream",
     "text": [
      "niveditha\n"
     ]
    }
   ],
   "source": [
    "print(\"niveditha\")"
   ]
  },
  {
   "cell_type": "code",
   "execution_count": 0,
   "metadata": {
    "colab": {
     "base_uri": "https://localhost:8080/",
     "height": 35
    },
    "colab_type": "code",
    "id": "0U0tIVyJWEki",
    "outputId": "883be4c7-530a-4fa8-e12a-9298f639bdd8"
   },
   "outputs": [
    {
     "data": {
      "text/plain": [
       "16"
      ]
     },
     "execution_count": 5,
     "metadata": {
      "tags": []
     },
     "output_type": "execute_result"
    }
   ],
   "source": [
    "2**4\n",
    "\n",
    "\n"
   ]
  },
  {
   "cell_type": "code",
   "execution_count": 0,
   "metadata": {
    "colab": {
     "base_uri": "https://localhost:8080/",
     "height": 35
    },
    "colab_type": "code",
    "id": "bpT-RPtLWRCQ",
    "outputId": "e5b58c58-fc7f-4e3d-f27b-a80cfd70ff62"
   },
   "outputs": [
    {
     "data": {
      "text/plain": [
       "0"
      ]
     },
     "execution_count": 6,
     "metadata": {
      "tags": []
     },
     "output_type": "execute_result"
    }
   ],
   "source": [
    "4%2\n"
   ]
  },
  {
   "cell_type": "code",
   "execution_count": 0,
   "metadata": {
    "colab": {
     "base_uri": "https://localhost:8080/",
     "height": 35
    },
    "colab_type": "code",
    "id": "I6iktJ7yWaWb",
    "outputId": "3ad8724a-feae-4cce-f269-e61dfb14ef17"
   },
   "outputs": [
    {
     "data": {
      "text/plain": [
       "50"
      ]
     },
     "execution_count": 7,
     "metadata": {
      "tags": []
     },
     "output_type": "execute_result"
    }
   ],
   "source": [
    "(2+3)*(5+5)"
   ]
  },
  {
   "cell_type": "code",
   "execution_count": 0,
   "metadata": {
    "colab": {},
    "colab_type": "code",
    "id": "PzUFJpH8XGRG"
   },
   "outputs": [],
   "source": [
    "mite=100"
   ]
  },
  {
   "cell_type": "code",
   "execution_count": 0,
   "metadata": {
    "colab": {},
    "colab_type": "code",
    "id": "5L-CbGckXGtG"
   },
   "outputs": [],
   "source": [
    "MITE=100"
   ]
  },
  {
   "cell_type": "code",
   "execution_count": 0,
   "metadata": {
    "colab": {
     "base_uri": "https://localhost:8080/",
     "height": 35
    },
    "colab_type": "code",
    "id": "bzP_lUqcXzWx",
    "outputId": "606852eb-556c-42be-a0c3-0b09be3ded17"
   },
   "outputs": [
    {
     "name": "stdout",
     "output_type": "stream",
     "text": [
      "the value of mite is 100\n"
     ]
    }
   ],
   "source": [
    "print(\"the value of mite is\",MITE)"
   ]
  },
  {
   "cell_type": "code",
   "execution_count": 0,
   "metadata": {
    "colab": {
     "base_uri": "https://localhost:8080/",
     "height": 35
    },
    "colab_type": "code",
    "id": "1AFR7F39YCLZ",
    "outputId": "05727d9c-6d76-404b-adb2-6281f502e535"
   },
   "outputs": [
    {
     "data": {
      "text/plain": [
       "'mangalore is a nice place'"
      ]
     },
     "execution_count": 16,
     "metadata": {
      "tags": []
     },
     "output_type": "execute_result"
    }
   ],
   "source": [
    "'mangalore is a nice place'"
   ]
  },
  {
   "cell_type": "code",
   "execution_count": 0,
   "metadata": {
    "colab": {
     "base_uri": "https://localhost:8080/",
     "height": 35
    },
    "colab_type": "code",
    "id": "ftdPPx5zYVnD",
    "outputId": "efd1667f-105c-452a-b6ac-83694a16e330"
   },
   "outputs": [
    {
     "data": {
      "text/plain": [
       "'mangalore is the great place to live '"
      ]
     },
     "execution_count": 17,
     "metadata": {
      "tags": []
     },
     "output_type": "execute_result"
    }
   ],
   "source": [
    "\"mangalore is the great place to live \""
   ]
  },
  {
   "cell_type": "code",
   "execution_count": 0,
   "metadata": {
    "colab": {
     "base_uri": "https://localhost:8080/",
     "height": 35
    },
    "colab_type": "code",
    "id": "LBbMyb-1Y7XW",
    "outputId": "67dffbdf-845f-45cf-a906-49af0c73dbbb"
   },
   "outputs": [
    {
     "data": {
      "text/plain": [
       "'niveditha'"
      ]
     },
     "execution_count": 20,
     "metadata": {
      "tags": []
     },
     "output_type": "execute_result"
    }
   ],
   "source": [
    "\"niveditha\""
   ]
  },
  {
   "cell_type": "code",
   "execution_count": 0,
   "metadata": {
    "colab": {
     "base_uri": "https://localhost:8080/",
     "height": 35
    },
    "colab_type": "code",
    "id": "_lntnLU6YcwL",
    "outputId": "92ce00a1-1c09-46d0-ba23-44769463444a"
   },
   "outputs": [
    {
     "data": {
      "text/plain": [
       "\"i can wrap lot's of quotes into this string\""
      ]
     },
     "execution_count": 18,
     "metadata": {
      "tags": []
     },
     "output_type": "execute_result"
    }
   ],
   "source": [
    "\"i can wrap lot's of quotes into this string\""
   ]
  },
  {
   "cell_type": "code",
   "execution_count": 0,
   "metadata": {
    "colab": {
     "base_uri": "https://localhost:8080/",
     "height": 35
    },
    "colab_type": "code",
    "id": "0J6HGVZjY1Dq",
    "outputId": "981c9a06-47b0-4837-c0c0-48ab65aeccd6"
   },
   "outputs": [
    {
     "name": "stdout",
     "output_type": "stream",
     "text": [
      "23 mite is a best place to study\n"
     ]
    }
   ],
   "source": [
    "number=22\n",
    "name='mite'\n",
    "print(number+1,name,\"is a best place to study\")"
   ]
  },
  {
   "cell_type": "code",
   "execution_count": 0,
   "metadata": {
    "colab": {
     "base_uri": "https://localhost:8080/",
     "height": 35
    },
    "colab_type": "code",
    "id": "7KJlk6L4ZVZm",
    "outputId": "de8ae464-e713-4e71-aae2-3004d9239500"
   },
   "outputs": [
    {
     "name": "stdout",
     "output_type": "stream",
     "text": [
      "my number is 22 and my  name is mite\n"
     ]
    }
   ],
   "source": [
    "print(\"my number is {one} and my  name is {two}\"\n",
    "      .format(one=number,two=name))"
   ]
  },
  {
   "cell_type": "code",
   "execution_count": 0,
   "metadata": {
    "colab": {
     "base_uri": "https://localhost:8080/",
     "height": 75
    },
    "colab_type": "code",
    "id": "uFuikPZcZVj9",
    "outputId": "d193effa-74f5-4493-bae0-d2df06dc4815"
   },
   "outputs": [
    {
     "name": "stdout",
     "output_type": "stream",
     "text": [
      "enter the first number10\n",
      "enter the second number2\n",
      "the product is 20\n"
     ]
    }
   ],
   "source": [
    "x=input(\"enter the first number\")\n",
    "y=input(\"enter the second number\")\n",
    "i=int(x)\n",
    "j=int(y)\n",
    "print(\"the product is\",i*j)\n"
   ]
  },
  {
   "cell_type": "code",
   "execution_count": 0,
   "metadata": {
    "colab": {
     "base_uri": "https://localhost:8080/",
     "height": 75
    },
    "colab_type": "code",
    "id": "uvLleoIsZVw5",
    "outputId": "5a2c0942-9aab-44f1-bf37-0d73ab16dec5"
   },
   "outputs": [
    {
     "name": "stdout",
     "output_type": "stream",
     "text": [
      "enter the first number10.2\n",
      "enter the second number3.1\n",
      "the product is 31.619999999999997\n"
     ]
    }
   ],
   "source": [
    "x=input(\"enter the first number\")\n",
    "y=input(\"enter the second number\")\n",
    "i=float(x)\n",
    "j=float(y)\n",
    "print(\"the product is\",i*j)\n"
   ]
  },
  {
   "cell_type": "code",
   "execution_count": 0,
   "metadata": {
    "colab": {
     "base_uri": "https://localhost:8080/",
     "height": 75
    },
    "colab_type": "code",
    "id": "2IsS-R_uZVuP",
    "outputId": "7ada81a9-0e31-4888-af2c-519805cde8e5"
   },
   "outputs": [
    {
     "name": "stdout",
     "output_type": "stream",
     "text": [
      "enter the first number0\n",
      "enter the second number1\n",
      "the product is 1\n"
     ]
    }
   ],
   "source": [
    "x=input(\"enter the first number\")\n",
    "y=input(\"enter the second number\")\n",
    "i=bool(x)\n",
    "j=bool(y)\n",
    "print(\"the product is\",i*j)\n"
   ]
  },
  {
   "cell_type": "code",
   "execution_count": 0,
   "metadata": {
    "colab": {
     "base_uri": "https://localhost:8080/",
     "height": 61
    },
    "colab_type": "code",
    "id": "zJ0z9u04ZVsH",
    "outputId": "d66e1292-deda-4813-a5bb-0af32d8d306c"
   },
   "outputs": [
    {
     "name": "stdout",
     "output_type": "stream",
     "text": [
      "are you married?[True|False]1\n"
     ]
    }
   ],
   "source": [
    "\n",
    "married=bool(input(\"are you married?[True|False]\"))"
   ]
  },
  {
   "cell_type": "code",
   "execution_count": 32,
   "metadata": {
    "colab": {
     "base_uri": "https://localhost:8080/",
     "height": 158
    },
    "colab_type": "code",
    "id": "HQM5rrj3c6cI",
    "outputId": "0ea42cd5-f3f5-42e4-f926-dabf57558c0f"
   },
   "outputs": [
    {
     "name": "stdout",
     "output_type": "stream",
     "text": [
      "enter the id100\n",
      "enter the nameniveditha\n",
      "enter the salary30000\n",
      "Are you a fresher ? [True|False]1\n",
      "True\n",
      "Your id is 100.0\n",
      "yor name  niveditha\n",
      "the total basic sallary is  36000.0\n"
     ]
    }
   ],
   "source": [
    "emp_id=float(input(\"enter the id\"))\n",
    "emp_name=input(\"enter the name\")\n",
    "emp_sal=float(input(\"enter the salary\"))\n",
    "tot=float(1.2*emp_sal)\n",
    "print(bool(input(\"Are you a fresher ? [True|False]\")))\n",
    "print(\"Your id is\",emp_id)\n",
    "print(\"yor name \",emp_name)\n",
    "print(\"the total basic sallary is \",tot)"
   ]
  },
  {
   "cell_type": "code",
   "execution_count": 34,
   "metadata": {
    "colab": {
     "base_uri": "https://localhost:8080/",
     "height": 53
    },
    "colab_type": "code",
    "id": "l4-ychWGc6sA",
    "outputId": "cd19fd51-eb60-4c33-b5a9-235ccc0fbed5"
   },
   "outputs": [
    {
     "name": "stdout",
     "output_type": "stream",
     "text": [
      "enter two numbers10 20\n",
      "product is: 200\n"
     ]
    }
   ],
   "source": [
    "a,b=[int(x) for x in\n",
    "     input(\"enter two numbers\").split()]\n",
    "print(\"product is:\",a*b)"
   ]
  },
  {
   "cell_type": "code",
   "execution_count": 0,
   "metadata": {
    "colab": {},
    "colab_type": "code",
    "id": "TO9MAvlyc7Ga"
   },
   "outputs": [],
   "source": [
    "a,b,c=[int(x) for x in\n",
    "     input(\"enter 3 numbers\")\n",
    "       .split(',')]\n",
    "print(\"sum is:\",a+b+c)"
   ]
  },
  {
   "cell_type": "code",
   "execution_count": 41,
   "metadata": {
    "colab": {
     "base_uri": "https://localhost:8080/",
     "height": 35
    },
    "colab_type": "code",
    "id": "BxJRROtPc7aT",
    "outputId": "22e27ac7-fc3d-4c59-f0c1-3729902a292c"
   },
   "outputs": [
    {
     "name": "stdout",
     "output_type": "stream",
     "text": [
      "60\n"
     ]
    }
   ],
   "source": [
    "x=eval(\"10+20+30\")\n",
    "print(x)"
   ]
  },
  {
   "cell_type": "code",
   "execution_count": 42,
   "metadata": {
    "colab": {
     "base_uri": "https://localhost:8080/",
     "height": 35
    },
    "colab_type": "code",
    "id": "o_GIcO5ic7W_",
    "outputId": "870fcd7a-fc65-4e12-e129-9434ecda1f03"
   },
   "outputs": [
    {
     "name": "stdout",
     "output_type": "stream",
     "text": [
      "16.0\n"
     ]
    }
   ],
   "source": [
    "x=eval(\"10/20*30+3+8-9-1\")\n",
    "print(x)"
   ]
  },
  {
   "cell_type": "code",
   "execution_count": 43,
   "metadata": {
    "colab": {
     "base_uri": "https://localhost:8080/",
     "height": 35
    },
    "colab_type": "code",
    "id": "TxuzlyUZc7Tu",
    "outputId": "839320be-aa6f-4be2-a60f-97c41c09e6ec"
   },
   "outputs": [
    {
     "name": "stdout",
     "output_type": "stream",
     "text": [
      "hellohellohellohellohellohellohellohellohellohello\n"
     ]
    }
   ],
   "source": [
    "print(10*\"hello\")"
   ]
  },
  {
   "cell_type": "code",
   "execution_count": 44,
   "metadata": {
    "colab": {
     "base_uri": "https://localhost:8080/",
     "height": 210
    },
    "colab_type": "code",
    "id": "4gmrtRwqc7Dc",
    "outputId": "026bfba5-60fc-48ee-98b6-cec071f5a533"
   },
   "outputs": [
    {
     "name": "stdout",
     "output_type": "stream",
     "text": [
      "hello\n",
      "hello\n",
      "hello\n",
      "hello\n",
      "hello\n",
      "hello\n",
      "hello\n",
      "hello\n",
      "hello\n",
      "hello\n",
      "\n"
     ]
    }
   ],
   "source": [
    "print(10*\"hello\\n\")"
   ]
  },
  {
   "cell_type": "code",
   "execution_count": 45,
   "metadata": {
    "colab": {
     "base_uri": "https://localhost:8080/",
     "height": 70
    },
    "colab_type": "code",
    "id": "MDJRf2IRc7A7",
    "outputId": "e558c689-37af-4403-aeb1-1d01457a85b8"
   },
   "outputs": [
    {
     "name": "stdout",
     "output_type": "stream",
     "text": [
      "hello\n",
      " world\n",
      "hello\t world\n"
     ]
    }
   ],
   "source": [
    "print(\"hello\\n world\")\n",
    "print(\"hello\\t world\")"
   ]
  },
  {
   "cell_type": "code",
   "execution_count": 46,
   "metadata": {
    "colab": {
     "base_uri": "https://localhost:8080/",
     "height": 35
    },
    "colab_type": "code",
    "id": "zINqE1L7c6-f",
    "outputId": "373a18a1-1e8c-430d-d0ff-55fa0751226b"
   },
   "outputs": [
    {
     "data": {
      "text/plain": [
       "[1, 2, 3]"
      ]
     },
     "execution_count": 46,
     "metadata": {
      "tags": []
     },
     "output_type": "execute_result"
    }
   ],
   "source": [
    "[1,2,3]"
   ]
  },
  {
   "cell_type": "code",
   "execution_count": 0,
   "metadata": {
    "colab": {},
    "colab_type": "code",
    "id": "jufHblNec68A"
   },
   "outputs": [],
   "source": [
    "my_list=['a','b','c']"
   ]
  },
  {
   "cell_type": "code",
   "execution_count": 52,
   "metadata": {
    "colab": {
     "base_uri": "https://localhost:8080/",
     "height": 35
    },
    "colab_type": "code",
    "id": "fFPivt11c65u",
    "outputId": "e96830ee-2e16-46cb-c3ef-8b56686804a1"
   },
   "outputs": [
    {
     "name": "stdout",
     "output_type": "stream",
     "text": [
      "['a', 'b', 'c', 'd', 'd', 'd', 'd']\n"
     ]
    }
   ],
   "source": [
    "my_list.append('d')\n",
    "print(my_list)"
   ]
  },
  {
   "cell_type": "code",
   "execution_count": 50,
   "metadata": {
    "colab": {
     "base_uri": "https://localhost:8080/",
     "height": 35
    },
    "colab_type": "code",
    "id": "6LLiPYf9c625",
    "outputId": "a366b970-5917-44d3-e249-fe256f3def80"
   },
   "outputs": [
    {
     "name": "stdout",
     "output_type": "stream",
     "text": [
      "['a', 'b', 'c', 'd', 'd']\n"
     ]
    }
   ],
   "source": [
    "print(my_list)"
   ]
  },
  {
   "cell_type": "code",
   "execution_count": 53,
   "metadata": {
    "colab": {
     "base_uri": "https://localhost:8080/",
     "height": 35
    },
    "colab_type": "code",
    "id": "0kDxHwDEc6pk",
    "outputId": "b9fc8284-d921-4331-a885-c71211caf4c7"
   },
   "outputs": [
    {
     "data": {
      "text/plain": [
       "'a'"
      ]
     },
     "execution_count": 53,
     "metadata": {
      "tags": []
     },
     "output_type": "execute_result"
    }
   ],
   "source": [
    "my_list[0]"
   ]
  },
  {
   "cell_type": "code",
   "execution_count": 54,
   "metadata": {
    "colab": {
     "base_uri": "https://localhost:8080/",
     "height": 35
    },
    "colab_type": "code",
    "id": "6cbu5z2gc6nT",
    "outputId": "d3fb9d9a-96af-4c27-8794-0c7e59c45d0d"
   },
   "outputs": [
    {
     "data": {
      "text/plain": [
       "['b', 'c', 'd', 'd', 'd', 'd']"
      ]
     },
     "execution_count": 54,
     "metadata": {
      "tags": []
     },
     "output_type": "execute_result"
    }
   ],
   "source": [
    "my_list[1:]"
   ]
  },
  {
   "cell_type": "code",
   "execution_count": 0,
   "metadata": {
    "colab": {},
    "colab_type": "code",
    "id": "R8lqhVuwlVHB"
   },
   "outputs": [],
   "source": [
    "nest=[1,2,3,[4,5,['target']]]"
   ]
  },
  {
   "cell_type": "code",
   "execution_count": 57,
   "metadata": {
    "colab": {
     "base_uri": "https://localhost:8080/",
     "height": 35
    },
    "colab_type": "code",
    "id": "um8J9P5LlVe_",
    "outputId": "f196653a-5e76-4aaf-e31b-482dbfcac139"
   },
   "outputs": [
    {
     "name": "stdout",
     "output_type": "stream",
     "text": [
      "[1, 2, 3, [4, 5, ['target']]]\n"
     ]
    }
   ],
   "source": [
    "print(nest)"
   ]
  },
  {
   "cell_type": "code",
   "execution_count": 71,
   "metadata": {
    "colab": {
     "base_uri": "https://localhost:8080/",
     "height": 70
    },
    "colab_type": "code",
    "id": "_V-bwkCelWEU",
    "outputId": "42d3125d-e3ce-417a-db7d-492669f72de3"
   },
   "outputs": [
    {
     "name": "stdout",
     "output_type": "stream",
     "text": [
      "enter name:nivi\n",
      "hello niveditha good afternoon\n",
      "hello how are you\n"
     ]
    }
   ],
   "source": [
    "name=input(\"enter name:\")\n",
    "if name=='nivi':\n",
    "  print(\"hello niveditha good afternoon\" )\n",
    "else :\n",
    "  print(\"i dont know your name\")\n",
    "  \n",
    "  \n",
    "print(\"hello how are you\")"
   ]
  },
  {
   "cell_type": "code",
   "execution_count": 69,
   "metadata": {
    "colab": {
     "base_uri": "https://localhost:8080/",
     "height": 61
    },
    "colab_type": "code",
    "id": "bMky0mqrlWAB",
    "outputId": "d44fb74c-3be2-4750-9d51-4a896a8afdc0"
   },
   "outputs": [
    {
     "name": "stdout",
     "output_type": "stream",
     "text": [
      "enter your fav team  mnu\n",
      "manchester united\n"
     ]
    }
   ],
   "source": [
    "team=input(\"enter your fav team  \")\n",
    "if team==\"mnu\":\n",
    "  print(\"manchester united\")\n",
    "elif team==\"chl\":\n",
    "  print(\"its chelsea\")\n",
    "else:\n",
    "  print(\"playing for  unknown team\")"
   ]
  },
  {
   "cell_type": "code",
   "execution_count": 75,
   "metadata": {
    "colab": {
     "base_uri": "https://localhost:8080/",
     "height": 193
    },
    "colab_type": "code",
    "id": "auGK0bLzlV7n",
    "outputId": "315826ae-2233-40c2-a803-578e1842a349"
   },
   "outputs": [
    {
     "name": "stdout",
     "output_type": "stream",
     "text": [
      "0\n",
      "1\n",
      "2\n",
      "3\n",
      "4\n",
      "5\n",
      "6\n",
      "7\n",
      "8\n",
      "9\n"
     ]
    }
   ],
   "source": [
    "for x in range(10):\n",
    "   print (x)"
   ]
  },
  {
   "cell_type": "code",
   "execution_count": 77,
   "metadata": {
    "colab": {
     "base_uri": "https://localhost:8080/",
     "height": 105
    },
    "colab_type": "code",
    "id": "7_NiKeb5lV3Z",
    "outputId": "923dd995-d26d-4da1-ee13-b4a751aa9c85"
   },
   "outputs": [
    {
     "name": "stdout",
     "output_type": "stream",
     "text": [
      "0\n",
      "2\n",
      "4\n",
      "6\n",
      "8\n"
     ]
    }
   ],
   "source": [
    "for x in range(10):\n",
    "  if x%2==0:\n",
    "    print(x)"
   ]
  },
  {
   "cell_type": "code",
   "execution_count": 0,
   "metadata": {
    "colab": {},
    "colab_type": "code",
    "id": "IxuA6FBelVy0"
   },
   "outputs": [],
   "source": [
    "for x in range(10,1,2): \n",
    "    print (x)\n"
   ]
  },
  {
   "cell_type": "code",
   "execution_count": 0,
   "metadata": {
    "colab": {},
    "colab_type": "code",
    "id": "ntt7uBeRlVbI"
   },
   "outputs": [],
   "source": [
    "for x in range(10,1,2): \n",
    "    print (x)\n"
   ]
  },
  {
   "cell_type": "code",
   "execution_count": 92,
   "metadata": {
    "colab": {
     "base_uri": "https://localhost:8080/",
     "height": 298
    },
    "colab_type": "code",
    "id": "2lQiXEOzlVX_",
    "outputId": "97649374-f816-4017-f86a-66017b0a982e"
   },
   "outputs": [
    {
     "name": "stdout",
     "output_type": "stream",
     "text": [
      "i= 0 j= 0\n",
      "i= 0 j= 1\n",
      "i= 0 j= 2\n",
      "i= 0 j= 3\n",
      "i= 1 j= 0\n",
      "i= 1 j= 1\n",
      "i= 1 j= 2\n",
      "i= 1 j= 3\n",
      "i= 2 j= 0\n",
      "i= 2 j= 1\n",
      "i= 2 j= 2\n",
      "i= 2 j= 3\n",
      "i= 3 j= 0\n",
      "i= 3 j= 1\n",
      "i= 3 j= 2\n",
      "i= 3 j= 3\n"
     ]
    }
   ],
   "source": [
    "for i in range(4): \n",
    "    for j in range(4): \n",
    "          print (\"i=\",i,\"j=\",j)\n",
    "\n"
   ]
  },
  {
   "cell_type": "code",
   "execution_count": 99,
   "metadata": {
    "colab": {
     "base_uri": "https://localhost:8080/",
     "height": 88
    },
    "colab_type": "code",
    "id": "fWt5ZbgVlVVB",
    "outputId": "ebe4eb56-bf49-49bf-ebb1-dfefc7558e16"
   },
   "outputs": [
    {
     "name": "stdout",
     "output_type": "stream",
     "text": [
      "* \n",
      "* * \n",
      "* * * \n",
      "* * * * \n"
     ]
    }
   ],
   "source": [
    "for i in range(1,5): \n",
    "    for j in range(1,i+1): \n",
    "          print(\"*\",end=\" \")\n",
    "    print()\n"
   ]
  },
  {
   "cell_type": "code",
   "execution_count": 100,
   "metadata": {
    "colab": {
     "base_uri": "https://localhost:8080/",
     "height": 193
    },
    "colab_type": "code",
    "id": "lbIQcSj_lVR-",
    "outputId": "abc6ac76-00f5-46d3-c152-d19372131373"
   },
   "outputs": [
    {
     "name": "stdout",
     "output_type": "stream",
     "text": [
      "\n",
      "* \n",
      "* * \n",
      "* * * \n",
      "* * * * \n",
      "* * * * * \n",
      "* * * * * * \n",
      "* * * * * * * \n",
      "* * * * * * * * \n",
      "* * * * * * * * * \n"
     ]
    }
   ],
   "source": [
    "for i in range(10): \n",
    "    for j in range(1,i+1): \n",
    "          print(\"*\",end=\" \")\n",
    "    print()"
   ]
  },
  {
   "cell_type": "code",
   "execution_count": 105,
   "metadata": {
    "colab": {
     "base_uri": "https://localhost:8080/",
     "height": 158
    },
    "colab_type": "code",
    "id": "fyqA5y1Uc6kc",
    "outputId": "ff91651c-a4cb-432b-ec27-7062fb2c81bf"
   },
   "outputs": [
    {
     "name": "stdout",
     "output_type": "stream",
     "text": [
      "0\n",
      "1\n",
      "2\n",
      "3\n",
      "4\n",
      "5\n",
      "6\n",
      "lets break after 7 \n"
     ]
    }
   ],
   "source": [
    "for i in range(10): \n",
    "  if i==7:\n",
    "     \n",
    "          print(\"lets break after 7 \")\n",
    "          break\n",
    "  print(i)"
   ]
  },
  {
   "cell_type": "code",
   "execution_count": 107,
   "metadata": {
    "colab": {
     "base_uri": "https://localhost:8080/",
     "height": 35
    },
    "colab_type": "code",
    "id": "_Xf2LAZaZViM",
    "outputId": "f7640568-ba85-4b2a-aee8-6f5c43917300"
   },
   "outputs": [
    {
     "name": "stdout",
     "output_type": "stream",
     "text": [
      "500\n"
     ]
    }
   ],
   "source": [
    "cart=[100,200,500,700,600]\n",
    "for x in cart:\n",
    "  if(x>=500):\n",
    "    print(x) \n",
    "    break"
   ]
  },
  {
   "cell_type": "code",
   "execution_count": 108,
   "metadata": {
    "colab": {
     "base_uri": "https://localhost:8080/",
     "height": 35
    },
    "colab_type": "code",
    "id": "XRO3D-A1Y4WU",
    "outputId": "e0b10de2-31f1-4ea2-95e5-b88faa32017f"
   },
   "outputs": [
    {
     "data": {
      "text/plain": [
       "'nitrogen'"
      ]
     },
     "execution_count": 108,
     "metadata": {
      "tags": []
     },
     "output_type": "execute_result"
    }
   ],
   "source": [
    "dict1={\"H\":\"hydrogen\",\"N\":\"nitrogen\"}\n",
    "dict1[\"N\"]"
   ]
  },
  {
   "cell_type": "code",
   "execution_count": 17,
   "metadata": {
    "colab": {},
    "colab_type": "code",
    "id": "P9P8fdZh3FOe"
   },
   "outputs": [
    {
     "name": "stdout",
     "output_type": "stream",
     "text": [
      "      *  \n",
      "    * *  \n",
      "  * * *  \n",
      "* * * *  \n"
     ]
    }
   ],
   "source": [
    "for i in range(0,4):\n",
    "    for j in range(0,4):\n",
    "        if i+j<=2:\n",
    "            print(\" \",end=\" \")\n",
    "        if i+j>=3:\n",
    "             print(\"*\",end=\" \")\n",
    "    print(\" \")"
   ]
  },
  {
   "cell_type": "code",
   "execution_count": 18,
   "metadata": {
    "colab": {},
    "colab_type": "code",
    "id": "9Y4HeAqV3E23"
   },
   "outputs": [
    {
     "name": "stdout",
     "output_type": "stream",
     "text": [
      "Enter name:virat\n",
      "v \n",
      "ii \n",
      "rrr \n",
      "aaaa \n",
      "ttttt \n"
     ]
    }
   ],
   "source": [
    "name=input('Enter name:')\n",
    "for i in range(len(name)):\n",
    "    for j in range(0,i+1):\n",
    "        print(name[i],end='')\n",
    "\n",
    "        print(\" \")"
   ]
  },
  {
   "cell_type": "code",
   "execution_count": null,
   "metadata": {
    "colab": {},
    "colab_type": "code",
    "id": "EPqaHtUO5iZl"
   },
   "outputs": [],
   "source": [
    "rec{}\n",
    "n=int(input)\n",
    "while i<=n:\n",
    "    name=input('enter student name:')\n",
    "    marks=input('enter % marks of student')\n",
    "    rec[name]=marks\n",
    "    i+=1\n",
    "    print('name of the student',\"/t\",\"% of marks\")\n",
    "    for x in rec:\n",
    "        print(\"\\t\",x,\"\\t\",rec[x])\n",
    "        "
   ]
  },
  {
   "cell_type": "code",
   "execution_count": 19,
   "metadata": {
    "colab": {},
    "colab_type": "code",
    "id": "Id2d7EOG5iEV"
   },
   "outputs": [
    {
     "name": "stdout",
     "output_type": "stream",
     "text": [
      "[100, 200, 400]\n"
     ]
    }
   ],
   "source": [
    "d=[100,200,400]\n",
    "print(d)"
   ]
  },
  {
   "cell_type": "code",
   "execution_count": 21,
   "metadata": {
    "colab": {},
    "colab_type": "code",
    "id": "di2Hb6y95hwF"
   },
   "outputs": [
    {
     "ename": "IndexError",
     "evalue": "list assignment index out of range",
     "output_type": "error",
     "traceback": [
      "\u001b[1;31m---------------------------------------------------------------------------\u001b[0m",
      "\u001b[1;31mIndexError\u001b[0m                                Traceback (most recent call last)",
      "\u001b[1;32m<ipython-input-21-ce9c9151cde6>\u001b[0m in \u001b[0;36m<module>\u001b[1;34m\u001b[0m\n\u001b[1;32m----> 1\u001b[1;33m \u001b[0md\u001b[0m\u001b[1;33m[\u001b[0m\u001b[1;36m4\u001b[0m\u001b[1;33m]\u001b[0m\u001b[1;33m=\u001b[0m\u001b[1;36m600\u001b[0m\u001b[1;33m\u001b[0m\u001b[1;33m\u001b[0m\u001b[0m\n\u001b[0m\u001b[0;32m      2\u001b[0m \u001b[0mprint\u001b[0m\u001b[1;33m(\u001b[0m\u001b[0md\u001b[0m\u001b[1;33m)\u001b[0m\u001b[1;33m\u001b[0m\u001b[1;33m\u001b[0m\u001b[0m\n",
      "\u001b[1;31mIndexError\u001b[0m: list assignment index out of range"
     ]
    }
   ],
   "source": [
    "d[4]=600\n",
    "print(d)"
   ]
  },
  {
   "cell_type": "code",
   "execution_count": 23,
   "metadata": {
    "colab": {},
    "colab_type": "code",
    "id": "FWEhwHhP5haV"
   },
   "outputs": [],
   "source": [
    "del d[1]"
   ]
  },
  {
   "cell_type": "code",
   "execution_count": 24,
   "metadata": {
    "colab": {},
    "colab_type": "code",
    "id": "FouzRI8r5hEC"
   },
   "outputs": [
    {
     "name": "stdout",
     "output_type": "stream",
     "text": [
      "[100, 400]\n"
     ]
    }
   ],
   "source": [
    "print(d)"
   ]
  },
  {
   "cell_type": "code",
   "execution_count": 0,
   "metadata": {
    "colab": {},
    "colab_type": "code",
    "id": "DMqm1Yys5gtt"
   },
   "outputs": [],
   "source": [
    "d.clear()"
   ]
  },
  {
   "cell_type": "code",
   "execution_count": 25,
   "metadata": {
    "colab": {},
    "colab_type": "code",
    "id": "1VE4ysOL5gNK"
   },
   "outputs": [
    {
     "name": "stdout",
     "output_type": "stream",
     "text": [
      "[100, 400]\n"
     ]
    }
   ],
   "source": [
    "print(d)"
   ]
  },
  {
   "cell_type": "code",
   "execution_count": 26,
   "metadata": {
    "colab": {},
    "colab_type": "code",
    "id": "_fofWkv_5fyQ"
   },
   "outputs": [
    {
     "name": "stdout",
     "output_type": "stream",
     "text": [
      "[]\n"
     ]
    }
   ],
   "source": [
    "d.clear()\n",
    "print(d)"
   ]
  },
  {
   "cell_type": "code",
   "execution_count": 27,
   "metadata": {
    "colab": {},
    "colab_type": "code",
    "id": "yl5MqZOX3Ex_"
   },
   "outputs": [
    {
     "data": {
      "text/plain": [
       "2"
      ]
     },
     "execution_count": 27,
     "metadata": {},
     "output_type": "execute_result"
    }
   ],
   "source": [
    "d={100:\"hello\",200:\"mite\"}\n",
    "len(d)"
   ]
  },
  {
   "cell_type": "code",
   "execution_count": 30,
   "metadata": {
    "colab": {},
    "colab_type": "code",
    "id": "XPVXFvxS3EuE"
   },
   "outputs": [
    {
     "name": "stdout",
     "output_type": "stream",
     "text": [
      "enter any wordnivi\n",
      "n occure 1 items\n",
      "i occure 2 items\n",
      "v occure 1 items\n"
     ]
    }
   ],
   "source": [
    "word=input('enter any word')\n",
    "d={}\n",
    "for x in word:\n",
    "    d[x]=d.get(x,0)+1\n",
    "for k,v in d.items():\n",
    "        print(k,\"occure\",v,\"items\")\n"
   ]
  },
  {
   "cell_type": "code",
   "execution_count": null,
   "metadata": {
    "colab": {},
    "colab_type": "code",
    "id": "-v8OqcPK3EqE"
   },
   "outputs": [],
   "source": [
    "word=input('enter any sentence')\n",
    "d={}\n",
    "word={'a','e','i','o','u'}\n",
    "for x in word:\n",
    "    if x in vowels:\n",
    "         d[x]=d.get(x,0)+1\n",
    "for k,v in d.items():\n",
    "        print(k,\"occure\",v,\"items\")\n"
   ]
  },
  {
   "cell_type": "code",
   "execution_count": null,
   "metadata": {
    "colab": {},
    "colab_type": "code",
    "id": "z_khJj6L3El1"
   },
   "outputs": [],
   "source": [
    "squares={x:x*x for x in range(1,6)}\n",
    "print(squares)"
   ]
  },
  {
   "cell_type": "code",
   "execution_count": null,
   "metadata": {
    "colab": {},
    "colab_type": "code",
    "id": "e0A-zyc53Ei6"
   },
   "outputs": [],
   "source": [
    "n=[1,2,3,4,5,5,5,5]\n",
    "print(n.count(5))"
   ]
  },
  {
   "cell_type": "code",
   "execution_count": null,
   "metadata": {
    "colab": {},
    "colab_type": "code",
    "id": "Rv0ahyTN3Ef6"
   },
   "outputs": [],
   "source": [
    "print(n,index(5))"
   ]
  },
  {
   "cell_type": "code",
   "execution_count": 27,
   "metadata": {
    "colab": {},
    "colab_type": "code",
    "id": "zCkeNE6Q3EN3"
   },
   "outputs": [
    {
     "ename": "SyntaxError",
     "evalue": "EOL while scanning string literal (<ipython-input-27-2f1a78c4e6c6>, line 2)",
     "output_type": "error",
     "traceback": [
      "\u001b[1;36m  File \u001b[1;32m\"<ipython-input-27-2f1a78c4e6c6>\"\u001b[1;36m, line \u001b[1;32m2\u001b[0m\n\u001b[1;33m    print(\" \"*(n-i),\"*\",\"*(2*i-1))\u001b[0m\n\u001b[1;37m                                  ^\u001b[0m\n\u001b[1;31mSyntaxError\u001b[0m\u001b[1;31m:\u001b[0m EOL while scanning string literal\n"
     ]
    }
   ],
   "source": [
    "for i in range(1,n+1):\n",
    "    print(\" \"*(n-i),\"*\",\"*(2*i-1)\n",
    "    for j in range(0,4):\n",
    "        if i+j>=2:\n",
    "            print(\" \",end=\" \")\n",
    "        if i+j>=3:\n",
    "             print(\"*\",end=\" \")\n",
    "    print(\" \")"
   ]
  },
  {
   "cell_type": "code",
   "execution_count": null,
   "metadata": {
    "colab": {},
    "colab_type": "code",
    "id": "Qq988f213D6B"
   },
   "outputs": [],
   "source": []
  },
  {
   "cell_type": "code",
   "execution_count": null,
   "metadata": {},
   "outputs": [],
   "source": []
  }
 ],
 "metadata": {
  "colab": {
   "collapsed_sections": [],
   "name": "firstday.ipynb",
   "provenance": [],
   "version": "0.3.2"
  },
  "kernelspec": {
   "display_name": "Python 3",
   "language": "python",
   "name": "python3"
  },
  "language_info": {
   "codemirror_mode": {
    "name": "ipython",
    "version": 3
   },
   "file_extension": ".py",
   "mimetype": "text/x-python",
   "name": "python",
   "nbconvert_exporter": "python",
   "pygments_lexer": "ipython3",
   "version": "3.7.3"
  }
 },
 "nbformat": 4,
 "nbformat_minor": 1
}
